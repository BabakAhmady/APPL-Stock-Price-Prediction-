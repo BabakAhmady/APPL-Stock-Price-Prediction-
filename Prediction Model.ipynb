{
 "cells": [
  {
   "cell_type": "markdown",
   "id": "949e4234",
   "metadata": {},
   "source": [
    "**APPL stock rice prediction using LSTM Model**\n",
    "\n",
    "By: Babak Ahmadi\n",
    "\n",
    "Email Address: babak.ahmadi.iust@gmail.com\n",
    "\n",
    "\n",
    "The project provides a tool for amateur stock traders by predicting the APPL stock price volatility.\n",
    "\n",
    "Amateur stock traders always look for market predictions to decide their next moves. Given the rich price history of APPL since 1980s, the data base provides a good basis to predict the behavior of the price in future based on the most recent price trend. \n",
    "\n",
    "bt Running the following cell you will get the predicted price for AAPL stock price on the next market day. "
   ]
  },
  {
   "cell_type": "code",
   "execution_count": 8,
   "id": "2871bef3",
   "metadata": {},
   "outputs": [
    {
     "name": "stdout",
     "output_type": "stream",
     "text": [
      "[*********************100%***********************]  1 of 1 completed\n",
      "WARNING:tensorflow:5 out of the last 5 calls to <function Model.make_predict_function.<locals>.predict_function at 0x7faa2b9ee170> triggered tf.function retracing. Tracing is expensive and the excessive number of tracings could be due to (1) creating @tf.function repeatedly in a loop, (2) passing tensors with different shapes, (3) passing Python objects instead of tensors. For (1), please define your @tf.function outside of the loop. For (2), @tf.function has reduce_retracing=True option that can avoid unnecessary retracing. For (3), please refer to https://www.tensorflow.org/guide/function#controlling_retracing and https://www.tensorflow.org/api_docs/python/tf/function for  more details.\n",
      "1/1 [==============================] - 0s 301ms/step\n",
      "Based on the last 14 market days stock price history, the predicted price for the market day is 149.43341\n"
     ]
    }
   ],
   "source": [
    "import numpy as np\n",
    "import pandas as pd\n",
    "import os\n",
    "import matplotlib.pyplot as plt\n",
    "import yfinance as yf\n",
    "from yahoofinancials import YahooFinancials as yfin\n",
    "from sklearn.preprocessing import MinMaxScaler\n",
    "from sklearn.preprocessing import StandardScaler\n",
    "from tensorflow.keras.models import Sequential, load_model\n",
    "from tensorflow.keras.layers import LSTM, TimeDistributed\n",
    "from tensorflow.keras.layers import Dense, Dropout\n",
    "from datetime import datetime, timedelta, date\n",
    "import math\n",
    "std = 36.31953317591333\n",
    "mean = 17.171041553941734\n",
    "model = load_model('/Users/babakahmadi/Documents/apple/final-model')\n",
    "start=date.today()-timedelta(days=30)\n",
    "price_hist = yf.download(\"aapl\", start=start,end=None, interval=\"1d\")\n",
    "input_price = price_hist.Close[-14:]\n",
    "input_price=(input_price-mean)/std\n",
    "input_price = input_price.to_numpy()\n",
    "input_price = input_price.reshape((1,14,1))\n",
    "Predicted_Price = model.predict(input_price)*std+mean\n",
    "print('Based on the last 14 market days stock price history, the predicted price for the market day is', Predicted_Price[0][0])  "
   ]
  },
  {
   "cell_type": "markdown",
   "id": "48c10a18",
   "metadata": {},
   "source": []
  },
  {
   "cell_type": "code",
   "execution_count": null,
   "id": "328ba062",
   "metadata": {},
   "outputs": [],
   "source": []
  }
 ],
 "metadata": {
  "kernelspec": {
   "display_name": "Python 3 (ipykernel)",
   "language": "python",
   "name": "python3"
  },
  "language_info": {
   "codemirror_mode": {
    "name": "ipython",
    "version": 3
   },
   "file_extension": ".py",
   "mimetype": "text/x-python",
   "name": "python",
   "nbconvert_exporter": "python",
   "pygments_lexer": "ipython3",
   "version": "3.10.8"
  }
 },
 "nbformat": 4,
 "nbformat_minor": 5
}
